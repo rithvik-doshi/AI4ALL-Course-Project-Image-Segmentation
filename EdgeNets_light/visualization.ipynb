{
 "cells": [
  {
   "cell_type": "code",
   "execution_count": 1,
   "id": "f55b5aec",
   "metadata": {},
   "outputs": [],
   "source": [
    "import matplotlib.pyplot as plt\n",
    "import pandas as pd\n",
    "# import data"
   ]
  },
  {
   "cell_type": "markdown",
   "id": "af6ec28f",
   "metadata": {},
   "source": [
    "# HEY EVERYONE!\n",
    "\n",
    "Just remember, if you ever feel lost, ask your peers, ask me or ask the internet!\n",
    "\n",
    "If you feel comfortable using a Jupyter Notebook, feel free to reference the main.py file and write your code here!"
   ]
  },
  {
   "cell_type": "code",
   "execution_count": null,
   "id": "228299a9",
   "metadata": {},
   "outputs": [],
   "source": []
  }
 ],
 "metadata": {
  "kernelspec": {
   "display_name": "Python 3 (ipykernel)",
   "language": "python",
   "name": "python3"
  },
  "language_info": {
   "codemirror_mode": {
    "name": "ipython",
    "version": 3
   },
   "file_extension": ".py",
   "mimetype": "text/x-python",
   "name": "python",
   "nbconvert_exporter": "python",
   "pygments_lexer": "ipython3",
   "version": "3.9.10"
  }
 },
 "nbformat": 4,
 "nbformat_minor": 5
}
