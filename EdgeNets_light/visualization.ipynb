{
 "cells": [
  {
   "cell_type": "code",
   "execution_count": 1,
   "id": "f55b5aec",
   "metadata": {},
   "outputs": [],
   "source": [
    "import matplotlib.pyplot as plt\n",
    "import pandas as pd\n",
    "# import data"
   ]
  },
  {
   "cell_type": "markdown",
   "id": "af6ec28f",
   "metadata": {},
   "source": [
    "# HEY EVERYONE!\n",
    "\n",
    "Just remember, if you ever feel lost, ask your peers, ask me or ask the internet!\n",
    "\n",
    "If you feel comfortable using a Jupyter Notebook, feel free to reference the main.py file and write your code here!"
   ]
  },
  {
   "cell_type": "code",
   "execution_count": 2,
   "id": "228299a9",
   "metadata": {},
   "outputs": [],
   "source": [
    "df = pd.read_csv(\"./seg_eval_results/results.csv\")\n",
    "pc = pd.read_csv(\"./seg_eval_results/power_consumption.csv\")"
   ]
  },
  {
   "cell_type": "code",
   "execution_count": 3,
   "id": "41b4e54b",
   "metadata": {},
   "outputs": [
    {
     "name": "stdout",
     "output_type": "stream",
     "text": [
      "0    0.003067\n",
      "1    0.005333\n",
      "2    0.003467\n",
      "3    0.006400\n",
      "4    0.003867\n",
      "5    0.008400\n",
      "6    0.004000\n",
      "7    0.009733\n",
      "Name: Wh/it, dtype: float64\n"
     ]
    }
   ],
   "source": [
    "pc = pc.iloc[:, 5]\n",
    "print(pc)"
   ]
  },
  {
   "cell_type": "code",
   "execution_count": 4,
   "id": "8f89e917",
   "metadata": {},
   "outputs": [],
   "source": [
    "pc1 = pc[pc.index.map(lambda x: x%2==0)]\n",
    "pc2 = pc[pc.index.map(lambda x: x%2==1)]\n",
    "\n",
    "color1 = pc1.map(lambda x: ((x/pc1.max())**6))\n",
    "color2 = pc2.map(lambda x: ((x/pc2.max())**6))\n",
    "\n",
    "size1 = color1*10**3.5\n",
    "size2 = color2*10**3.5"
   ]
  },
  {
   "cell_type": "code",
   "execution_count": 5,
   "id": "836d2e9e",
   "metadata": {},
   "outputs": [
    {
     "data": {
      "text/html": [
       "<div>\n",
       "<style scoped>\n",
       "    .dataframe tbody tr th:only-of-type {\n",
       "        vertical-align: middle;\n",
       "    }\n",
       "\n",
       "    .dataframe tbody tr th {\n",
       "        vertical-align: top;\n",
       "    }\n",
       "\n",
       "    .dataframe thead th {\n",
       "        text-align: right;\n",
       "    }\n",
       "</style>\n",
       "<table border=\"1\" class=\"dataframe\">\n",
       "  <thead>\n",
       "    <tr style=\"text-align: right;\">\n",
       "      <th></th>\n",
       "      <th>Unnamed: 0</th>\n",
       "      <th>s</th>\n",
       "      <th>im_size</th>\n",
       "      <th>flops</th>\n",
       "      <th>num_params</th>\n",
       "      <th>miou</th>\n",
       "      <th>speed</th>\n",
       "    </tr>\n",
       "  </thead>\n",
       "  <tbody>\n",
       "    <tr>\n",
       "      <th>0</th>\n",
       "      <td>0</td>\n",
       "      <td>0.5</td>\n",
       "      <td>512x256</td>\n",
       "      <td>149.397482</td>\n",
       "      <td>0.080342</td>\n",
       "      <td>0.400913</td>\n",
       "      <td>0.963713</td>\n",
       "    </tr>\n",
       "    <tr>\n",
       "      <th>1</th>\n",
       "      <td>1</td>\n",
       "      <td>0.5</td>\n",
       "      <td>1024x512</td>\n",
       "      <td>597.558896</td>\n",
       "      <td>0.080342</td>\n",
       "      <td>0.443691</td>\n",
       "      <td>3.305989</td>\n",
       "    </tr>\n",
       "    <tr>\n",
       "      <th>2</th>\n",
       "      <td>2</td>\n",
       "      <td>1.0</td>\n",
       "      <td>512x256</td>\n",
       "      <td>271.661034</td>\n",
       "      <td>0.234010</td>\n",
       "      <td>0.462039</td>\n",
       "      <td>1.267927</td>\n",
       "    </tr>\n",
       "    <tr>\n",
       "      <th>3</th>\n",
       "      <td>3</td>\n",
       "      <td>1.0</td>\n",
       "      <td>1024x512</td>\n",
       "      <td>1086.594672</td>\n",
       "      <td>0.234010</td>\n",
       "      <td>0.514186</td>\n",
       "      <td>4.147480</td>\n",
       "    </tr>\n",
       "    <tr>\n",
       "      <th>4</th>\n",
       "      <td>4</td>\n",
       "      <td>1.5</td>\n",
       "      <td>512x256</td>\n",
       "      <td>428.658154</td>\n",
       "      <td>0.468362</td>\n",
       "      <td>0.432542</td>\n",
       "      <td>1.574605</td>\n",
       "    </tr>\n",
       "    <tr>\n",
       "      <th>5</th>\n",
       "      <td>5</td>\n",
       "      <td>1.5</td>\n",
       "      <td>1024x512</td>\n",
       "      <td>1714.566256</td>\n",
       "      <td>0.468362</td>\n",
       "      <td>0.498647</td>\n",
       "      <td>5.131690</td>\n",
       "    </tr>\n",
       "    <tr>\n",
       "      <th>6</th>\n",
       "      <td>6</td>\n",
       "      <td>2.0</td>\n",
       "      <td>512x256</td>\n",
       "      <td>674.784234</td>\n",
       "      <td>0.789242</td>\n",
       "      <td>0.439168</td>\n",
       "      <td>1.893494</td>\n",
       "    </tr>\n",
       "    <tr>\n",
       "      <th>7</th>\n",
       "      <td>7</td>\n",
       "      <td>2.0</td>\n",
       "      <td>1024x512</td>\n",
       "      <td>2699.053680</td>\n",
       "      <td>0.789242</td>\n",
       "      <td>0.509071</td>\n",
       "      <td>6.148570</td>\n",
       "    </tr>\n",
       "  </tbody>\n",
       "</table>\n",
       "</div>"
      ],
      "text/plain": [
       "   Unnamed: 0    s   im_size        flops  num_params      miou     speed\n",
       "0           0  0.5   512x256   149.397482    0.080342  0.400913  0.963713\n",
       "1           1  0.5  1024x512   597.558896    0.080342  0.443691  3.305989\n",
       "2           2  1.0   512x256   271.661034    0.234010  0.462039  1.267927\n",
       "3           3  1.0  1024x512  1086.594672    0.234010  0.514186  4.147480\n",
       "4           4  1.5   512x256   428.658154    0.468362  0.432542  1.574605\n",
       "5           5  1.5  1024x512  1714.566256    0.468362  0.498647  5.131690\n",
       "6           6  2.0   512x256   674.784234    0.789242  0.439168  1.893494\n",
       "7           7  2.0  1024x512  2699.053680    0.789242  0.509071  6.148570"
      ]
     },
     "execution_count": 5,
     "metadata": {},
     "output_type": "execute_result"
    }
   ],
   "source": [
    "df"
   ]
  },
  {
   "cell_type": "code",
   "execution_count": 6,
   "id": "a6282007",
   "metadata": {},
   "outputs": [
    {
     "name": "stdout",
     "output_type": "stream",
     "text": [
      "   Unnamed: 0    s  im_size       flops  num_params      miou     speed\n",
      "0           0  0.5  512x256  149.397482    0.080342  0.400913  0.963713\n",
      "2           2  1.0  512x256  271.661034    0.234010  0.462039  1.267927\n",
      "4           4  1.5  512x256  428.658154    0.468362  0.432542  1.574605\n",
      "6           6  2.0  512x256  674.784234    0.789242  0.439168  1.893494 \n",
      "    Unnamed: 0    s   im_size        flops  num_params      miou     speed\n",
      "1           1  0.5  1024x512   597.558896    0.080342  0.443691  3.305989\n",
      "3           3  1.0  1024x512  1086.594672    0.234010  0.514186  4.147480\n",
      "5           5  1.5  1024x512  1714.566256    0.468362  0.498647  5.131690\n",
      "7           7  2.0  1024x512  2699.053680    0.789242  0.509071  6.148570\n"
     ]
    }
   ],
   "source": [
    "df_512 = df[df['im_size'] == \"512x256\"]\n",
    "df_1024 = df[df['im_size'] == \"1024x512\"]\n",
    "print(df_512, \"\\n\", df_1024)"
   ]
  },
  {
   "cell_type": "code",
   "execution_count": 7,
   "id": "c5e2c390",
   "metadata": {},
   "outputs": [
    {
     "name": "stdout",
     "output_type": "stream",
     "text": [
      "     s       flops  num_params      miou     speed\n",
      "0  0.5  149.397482    0.080342  0.400913  0.963713\n",
      "1  1.0  271.661034    0.234010  0.462039  1.267927\n",
      "2  1.5  428.658154    0.468362  0.432542  1.574605\n",
      "3  2.0  674.784234    0.789242  0.439168  1.893494 \n",
      "      s        flops  num_params      miou     speed\n",
      "0  0.5   597.558896    0.080342  0.443691  3.305989\n",
      "1  1.0  1086.594672    0.234010  0.514186  4.147480\n",
      "2  1.5  1714.566256    0.468362  0.498647  5.131690\n",
      "3  2.0  2699.053680    0.789242  0.509071  6.148570\n"
     ]
    }
   ],
   "source": [
    "df_512 = df_512.reset_index()\n",
    "df_1024 = df_1024.reset_index()\n",
    "\n",
    "df_512 = df_512.iloc[:, 2:]\n",
    "df_1024 = df_1024.iloc[:, 2:]\n",
    "\n",
    "df_512.drop('im_size', axis = 1, inplace=True)\n",
    "df_1024.drop('im_size', axis = 1, inplace=True)\n",
    "\n",
    "print(df_512, \"\\n\", df_1024)"
   ]
  },
  {
   "cell_type": "code",
   "execution_count": 8,
   "id": "d4bf5b7d",
   "metadata": {},
   "outputs": [],
   "source": [
    "X_1 = df_512['miou']\n",
    "Y_1 = df_512['speed']\n",
    "X_2 = df_1024['miou']\n",
    "Y_2 = df_1024['speed']"
   ]
  },
  {
   "cell_type": "code",
   "execution_count": 9,
   "id": "968f345e",
   "metadata": {},
   "outputs": [
    {
     "data": {
      "image/png": "[encoded data removed]",
      "text/plain": [
       "<Figure size 432x288 with 1 Axes>"
      ]
     },
     "metadata": {
      "needs_background": "light"
     },
     "output_type": "display_data"
    }
   ],
   "source": [
    "plt.scatter(X_1, Y_1, s=size1, c=[[i, 0.5, 0.5] for i in color1])\n",
    "plt.xlabel(\"Mean Intersection-Over-Union\")\n",
    "plt.ylabel(\"Speed (ms/f)\")\n",
    "plt.margins(0.2)\n",
    "plt.title(\"MIOU vs Speed, 512x256 pixels\")\n",
    "annotations = df_512['s']\n",
    "numpc1 = pc1.to_numpy()\n",
    "numpc2 = pc2.to_numpy()\n",
    "for i, label in enumerate(annotations):\n",
    "    plt.annotate(f\"{label}, {numpc1[i]:.2e} Wh/it\", (X_1[i], Y_1[i]))\n",
    "plt.savefig('seg_eval_results/MIOU_vs_speed512.png')\n",
    "plt.show()"
   ]
  },
  {
   "cell_type": "code",
   "execution_count": 10,
   "id": "ab498e17",
   "metadata": {},
   "outputs": [
    {
     "data": {
      "image/png": "[encoded data removed]",
      "text/plain": [
       "<Figure size 432x288 with 1 Axes>"
      ]
     },
     "metadata": {
      "needs_background": "light"
     },
     "output_type": "display_data"
    }
   ],
   "source": [
    "plt.scatter(X_2, Y_2, s=size2, c=[[i, 0.5, 0.5] for i in color2])\n",
    "plt.xlabel(\"Mean Intersection-Over-Union\")\n",
    "plt.ylabel(\"Speed (ms/f)\")\n",
    "plt.margins(0.2)\n",
    "plt.title(\"MIOU vs Speed, 1024x512 pixels\")\n",
    "annotations = df_1024['s']\n",
    "for i, label in enumerate(annotations):\n",
    "    plt.annotate(f\"{label}, {numpc1[i]:.2e} Wh/it\", (X_2[i], Y_2[i]))\n",
    "plt.savefig('seg_eval_results/MIOU_vs_speed1024.png')\n",
    "plt.show()"
   ]
  },
  {
   "cell_type": "code",
   "execution_count": null,
   "id": "266d81c9",
   "metadata": {},
   "outputs": [],
   "source": []
  }
 ],
 "metadata": {
  "kernelspec": {
   "display_name": "Python 3 (ipykernel)",
   "language": "python",
   "name": "python3"
  },
  "language_info": {
   "codemirror_mode": {
    "name": "ipython",
    "version": 3
   },
   "file_extension": ".py",
   "mimetype": "text/x-python",
   "name": "python",
   "nbconvert_exporter": "python",
   "pygments_lexer": "ipython3",
   "version": "3.9.10"
  }
 },
 "nbformat": 4,
 "nbformat_minor": 5
}
